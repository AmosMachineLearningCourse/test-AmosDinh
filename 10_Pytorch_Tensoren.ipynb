{
 "cells": [
  {
   "cell_type": "code",
   "execution_count": null,
   "metadata": {},
   "outputs": [],
   "source": [
    "# !pip install torch"
   ]
  },
  {
   "cell_type": "markdown",
   "metadata": {},
   "source": [
    "Kurze Einführung in Pytorch\n",
    "Info: Pytorch ist eine Open-Source (= Frei verfügbar, kommerziell nutzbar) Python Library, entwickelt von Meta (Facebook). Die Library abstrahiert Methoden zum Training von Neuralen Netzen (Deep Learning). Das beinhaltet:\n",
    "- GPU/Grafikkartenzugriff\n",
    "- Definition und Operationen zum Rechnen mit nxm Matrizen, genannt \"Tensoren\"\n",
    "- Autograd: \"Automatische numerische Ableitung/Gradientenberechnung\"\n",
    "- C Datentypen: Ints, Floats, Boolean...\n",
    "- Laden der Daten zum Training (Oft Engpass)\n",
    "- Oft verwendete Netzwerkstrukturen und mathematische Funktionen\n",
    "- Speichern und Laden der trainierten Modelle\n",
    "\n",
    "Hier gibts die Dokumentation: https://pytorch.org/docs/stable/index.html"
   ]
  },
  {
   "cell_type": "code",
   "execution_count": null,
   "metadata": {},
   "outputs": [],
   "source": [
    "# Das hier ist ein comment und wird nicht ausgeführt da \"#\" vorne dran steht \n",
    "import torch  # Importiere die Bibliothek torch\n",
    "\n",
    "# Grundbaustein ist der Tensor\n",
    "x = torch.tensor([5.5, 3])  # Erstelle einen Tensor mit den Werten 5.5 und 3\n",
    "print(x, \"Gebe den Tensor aus\") "
   ]
  },
  {
   "cell_type": "code",
   "execution_count": null,
   "metadata": {},
   "outputs": [],
   "source": [
    "# Verschiedene Methoden/Attribute und Klassen in torch werden mit torch. aufgerufen\n",
    "print(x.shape, \"x ist ein Tupel der Länge 2\") \n",
    "print(x.dtype, \"x ist ein float32 Tensor\")"
   ]
  },
  {
   "cell_type": "code",
   "execution_count": null,
   "metadata": {},
   "outputs": [],
   "source": [
    "# Umwandeln in einen Integer Tensor\n",
    "x = x.to(torch.int64) # Datentypen: torch.float32, torch.float64, torch.int64, torch.int32, torch.int16, torch.int8, torch.bool ...\n",
    "print(x, \"Verlust der Nachkommastellen\") \n",
    "print(x.dtype, \"Datentyp ist jetzt int64\")"
   ]
  },
  {
   "cell_type": "code",
   "execution_count": null,
   "metadata": {},
   "outputs": [],
   "source": [
    "# nxm Matrix\n",
    "x = torch.tensor([[5.5, 3], [1, 2], [3, 4]])  # Erstelle eine 3x2 Matrix\n",
    "print(x, \"Gebe die Matrix aus\")\n",
    "print(x.shape, \"x hat dimension 3x2\") "
   ]
  },
  {
   "cell_type": "code",
   "execution_count": null,
   "metadata": {},
   "outputs": [],
   "source": [
    "# Erstelle eine 3x2x5 Matrix mit Zufallswerten\n",
    "x = torch.rand(3, 2, 5)  # Erstelle eine 3x2x5 Matrix mit Zufallswerten\n",
    "print(x, \"Gebe die Matrix aus, es wird schon schwierig das zu lesen\")\n",
    "print(x.shape, \"x hat dimension 3x2x5\")"
   ]
  },
  {
   "cell_type": "code",
   "execution_count": null,
   "metadata": {},
   "outputs": [],
   "source": [
    "# Konzeptionel wird das n-Tupel als n-dimensionaler Tensor interpretiert, aber pytorch behandelt sie anders\n",
    "print(torch.zeros(5).shape, torch.zeros(5,1).shape, torch.zeros(5,1,1).shape, '1D, 2D, 3D Tensor') "
   ]
  },
  {
   "cell_type": "code",
   "execution_count": null,
   "metadata": {},
   "outputs": [],
   "source": [
    "print('\\nMatrix Slicing')\n",
    "# Nochmal zur Matrix\n",
    "x = torch.tensor([[5.5, 3], [1, 2], [3, 4]]) # Erstelle eine 3x2 Matrix\n",
    "print(x)\n",
    "print(x[0], \"Erste Zeile\")\n",
    "print(x[0, :], \"Erste Zeile\")\n",
    "print(x[0, 1], \"Zweites Element in der ersten Zeile\")\n",
    "print(x[:, 0], \"Erste Spalte\")\n",
    "print(x[1:3, :1], \"Zweite und dritte Zeile, erste Spalte\")"
   ]
  },
  {
   "cell_type": "code",
   "execution_count": null,
   "metadata": {},
   "outputs": [],
   "source": [
    "print('Ps: Einzelne Werte sind auch als Tensor darstellbar')\n",
    "print(torch.tensor(5.5), torch.tensor(5.5).shape)\n",
    "\n",
    "# Es gibt noch viele Weitere Operationen auf Tensoren, die später noch behandelt werden\n",
    "# - Elementweise mathematische Operationen wie Addition, Subtraktion, Multiplikation, Division\n",
    "# - Matrixmultiplikation\n",
    "# - Transponieren, Inverse, Determinante\n",
    "# - Reshape, Concatenation, Stack\n",
    "# - Broadcasting\n",
    "# - GPU Unterstützung\n",
    "# - ..."
   ]
  },
  {
   "cell_type": "code",
   "execution_count": null,
   "metadata": {},
   "outputs": [],
   "source": [
    "# Bemerkung: Man kann in Ipython Notebooks Cells auch einfach Werte ohne \"print\" ausgeben lassen (Die letzte Zeile wird automatisch ausgegeben, wenn sie nicht mit einem \";\" endet / es statements sind)\n",
    "x = torch.tensor([5.5, 3])\n",
    "x, x.shape, x.dtype"
   ]
  },
  {
   "cell_type": "code",
   "execution_count": null,
   "metadata": {},
   "outputs": [],
   "source": [
    "# === Aufgabe ===\n",
    "# Erstelle eine 2x3 Matrix  mit den Werten 1,2,3,4,5,6 (von links nach rechts gelesen) und gebe die 2. Zeile aus, sowie das Element in der 1. Zeile und 2. Spalte\n",
    "# Gebe das Shape Attribut der Matrix aus\n",
    "# Importiere zuerst pytorch und benutze die print Funktion\n",
    "# === Aufgabe ===\n",
    "\n",
    "# === Antwort ===\n",
    "# Schreibe hier deine Antwort rein\n",
    "\n",
    "x = torch.\n",
    "# === Antwort ==="
   ]
  }
 ],
 "metadata": {
  "language_info": {
   "name": "python"
  }
 },
 "nbformat": 4,
 "nbformat_minor": 2
}
